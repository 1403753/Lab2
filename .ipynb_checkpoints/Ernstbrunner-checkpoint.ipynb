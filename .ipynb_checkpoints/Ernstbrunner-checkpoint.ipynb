{
 "cells": [
  {
   "cell_type": "code",
   "execution_count": 8,
   "metadata": {},
   "outputs": [
    {
     "name": "stdout",
     "output_type": "stream",
     "text": [
      "maximum gain:  0.7181468042286667  in column  3\n"
     ]
    },
    {
     "data": {
      "text/plain": [
       "array([1.18178024e-01, 6.26307995e-06, 4.14209683e-01, 7.18146804e-01,\n",
       "       4.14453593e-01, 1.46521002e-01, 1.92165335e-01, 3.40202655e-01,\n",
       "       2.63865272e-01, 4.74038917e-03, 1.06145352e-01, 3.40546239e-01,\n",
       "       2.08139604e-01, 2.94123339e-01, 2.14900981e-01, 4.22325440e-03])"
      ]
     },
     "execution_count": 8,
     "metadata": {},
     "output_type": "execute_result"
    }
   ],
   "source": [
    "import numpy as np\n",
    "from matplotlib import pyplot as plt\n",
    "\n",
    "# function definitions\n",
    "\n",
    "def load_data(fname):\n",
    "    data = np.genfromtxt(fname, delimiter=',', dtype=str)\n",
    "        \n",
    "    for i in range(data.shape[0]):\n",
    "        for j in range(data.shape[1]):\n",
    "            if data[i][j] == '?':\n",
    "                data[i][j] = 'n'\n",
    "    return data\n",
    "\n",
    "def entropy(X):\n",
    "    unique, counts = np.unique(X, return_counts=True)\n",
    "    px = counts / len(X)\n",
    "    return -np.dot(px, np.log2(px))\n",
    "\n",
    "def compute_gain(S, i):\n",
    "    E = entropy(S)\n",
    "    avg_E = 0\n",
    "    unique, counts = np.unique(i, return_counts=True)\n",
    "    for j in range(len(unique)):\n",
    "        idx = np.where(unique[j] == i)[0]\n",
    "        s = 1 / len(S)\n",
    "        avg_E += (len(idx) * s)*entropy(S[idx])\n",
    "    \n",
    "    return E - avg_E\n",
    "\n",
    "def ID3(d, n, data):\n",
    "    # you will probably need additional helper functions\n",
    "    return tree\n",
    "\n",
    "def split_data(data, split):\n",
    "    return training_set, test_set\n",
    "\n",
    "def learning_curve(d, n, training_set, test_set):\n",
    "    # you will probably need additional helper functions\n",
    "    return plot\n",
    "\n",
    "# main\n",
    "\n",
    "data = load_data('house-votes-84.data')\n",
    "\n",
    "gains = np.zeros(data.shape[1]-1)\n",
    "\n",
    "for x in range(1, data.shape[1]):\n",
    "    gains[x-1] = compute_gain(data[:,0], data[:,x])\n",
    "\n",
    "    \n",
    "print('maximum gain: ', max(gains), ' in column ', np.argmax(gains)+1)\n",
    "gains"
   ]
  },
  {
   "cell_type": "code",
   "execution_count": null,
   "metadata": {},
   "outputs": [],
   "source": []
  }
 ],
 "metadata": {
  "kernelspec": {
   "display_name": "Python 3",
   "language": "python",
   "name": "python3"
  },
  "language_info": {
   "codemirror_mode": {
    "name": "ipython",
    "version": 3
   },
   "file_extension": ".py",
   "mimetype": "text/x-python",
   "name": "python",
   "nbconvert_exporter": "python",
   "pygments_lexer": "ipython3",
   "version": "3.6.7"
  }
 },
 "nbformat": 4,
 "nbformat_minor": 2
}

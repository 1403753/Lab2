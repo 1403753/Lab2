{
 "cells": [
  {
   "cell_type": "code",
   "execution_count": 7,
   "metadata": {},
   "outputs": [
    {
     "name": "stdout",
     "output_type": "stream",
     "text": [
      "maximum gain:  0.718146804229  in column  4\n"
     ]
    },
    {
     "data": {
      "text/plain": [
       "[0.11817802414440359,\n",
       " 6.2630799496643519e-06,\n",
       " 0.41420968297586946,\n",
       " 0.71814680422866684,\n",
       " 0.41445359339175836,\n",
       " 0.14652100204998297,\n",
       " 0.19216533524058454,\n",
       " 0.34020265507497782,\n",
       " 0.26386527190010711,\n",
       " 0.004740389170263426,\n",
       " 0.10614535191458785,\n",
       " 0.34054623858941202,\n",
       " 0.20813960382676799,\n",
       " 0.29412333885764352,\n",
       " 0.21490098092665333,\n",
       " 0.0042232543986164828]"
      ]
     },
     "execution_count": 7,
     "metadata": {},
     "output_type": "execute_result"
    }
   ],
   "source": [
    "import numpy as np\n",
    "from matplotlib import pyplot as plt\n",
    "\n",
    "# function definitions\n",
    "\n",
    "def load_data(fname):\n",
    "    data = np.genfromtxt(fname, delimiter=',', dtype=str)\n",
    "        \n",
    "    for i in range(data.shape[0]):\n",
    "        for j in range(data.shape[1]):\n",
    "            if data[i][j] == '?':\n",
    "                data[i][j] = 'n' #np.random.choice(['y', 'n'])\n",
    "    return data\n",
    "\n",
    "def entropy(X):\n",
    "    unique, counts = np.unique(X, return_counts=True)\n",
    "    px = counts / len(X)\n",
    "    return -np.dot(px, np.log2(px))\n",
    "\n",
    "def compute_gain(S, i):\n",
    "    E = entropy(S)\n",
    "    avg_E = 0\n",
    "    unique, counts = np.unique(i, return_counts=True)\n",
    "    s = 1 / len(S)\n",
    "    for j in range(len(unique)):\n",
    "        idx = np.where(unique[j] == i)[0]\n",
    "        avg_E += len(idx) * s * entropy(S[idx])\n",
    "    \n",
    "    return E - avg_E\n",
    "\n",
    "def ID3(d, n, data):\n",
    "    # you will probably need additional helper functions\n",
    "    return tree\n",
    "\n",
    "def split_data(data, split):\n",
    "    return training_set, test_set\n",
    "\n",
    "def learning_curve(d, n, training_set, test_set):\n",
    "    # you will probably need additional helper functions\n",
    "    return plot\n",
    "\n",
    "# main\n",
    "\n",
    "data = load_data('house-votes-84.data')\n",
    "\n",
    "gains = [compute_gain(data[:,0], data[:,x]) for x in range(1, data.shape[1])]\n",
    "    \n",
    "print('maximum gain: ', max(gains), ' in column ', np.argmax(gains)+1)"
   ]
  },
  {
   "cell_type": "code",
   "execution_count": null,
   "metadata": {},
   "outputs": [],
   "source": []
  }
 ],
 "metadata": {
  "kernelspec": {
   "display_name": "Python 3",
   "language": "python",
   "name": "python3"
  },
  "language_info": {
   "codemirror_mode": {
    "name": "ipython",
    "version": 3
   },
   "file_extension": ".py",
   "mimetype": "text/x-python",
   "name": "python",
   "nbconvert_exporter": "python",
   "pygments_lexer": "ipython3",
   "version": "3.6.2"
  }
 },
 "nbformat": 4,
 "nbformat_minor": 2
}

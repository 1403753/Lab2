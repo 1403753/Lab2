{
 "cells": [
  {
   "cell_type": "code",
   "execution_count": 21,
   "metadata": {},
   "outputs": [
    {
     "name": "stdout",
     "output_type": "stream",
     "text": [
      "maximum gain:  0.719054670945  in column  4\n",
      "maximum gain:  0.782554532538  in column  4\n"
     ]
    },
    {
     "data": {
      "text/plain": [
       "0"
      ]
     },
     "execution_count": 21,
     "metadata": {},
     "output_type": "execute_result"
    }
   ],
   "source": [
    "import numpy as np\n",
    "from matplotlib import pyplot as plt\n",
    "\n",
    "# function definitions\n",
    "\n",
    "def load_data(fname):\n",
    "    data = np.genfromtxt(fname, delimiter=',', dtype=str)\n",
    "        \n",
    "    for i in range(data.shape[0]):\n",
    "        for j in range(data.shape[1]):\n",
    "            if data[i][j] == '?':\n",
    "                data[i][j] = np.random.choice(['y', 'n'])\n",
    "    return data\n",
    "\n",
    "def entropy(X):\n",
    "    unique, counts = np.unique(X, return_counts=True)\n",
    "    px = counts / len(X)\n",
    "    return -np.dot(px, np.log2(px))\n",
    "\n",
    "def compute_gain(S, i):\n",
    "    E = entropy(S)\n",
    "    avg_E = 0\n",
    "    unique, counts = np.unique(i, return_counts=True)\n",
    "    s = 1 / len(S)\n",
    "    for j in range(len(unique)):\n",
    "        idx = np.where(unique[j] == i)[0]\n",
    "        avg_E += len(idx) * s * entropy(S[idx])\n",
    "    return E - avg_E\n",
    "\n",
    "def ID3(d, n, data):\n",
    "    gains = [compute_gain(data[:,0], data[:,x]) for x in range(1, data.shape[1])]\n",
    "    \n",
    "    print('maximum gain: ', max(gains), ' in column ', np.argmax(gains)+1)\n",
    "    # you will probably need additional helper functions\n",
    "    \n",
    "    tree = 0\n",
    "    return tree\n",
    "\n",
    "def split_data(data, split):\n",
    "    # create permuted indices for training and test sets\n",
    "    perm = np.random.permutation(np.indices((len(data),))[0])\n",
    "    # calculate the number of rows according to the given percentage\n",
    "    nrows = int(split * len(data))\n",
    "    training_set = data[perm[:nrows]]\n",
    "    test_set = data[perm[nrows:]]\n",
    "    return training_set, test_set\n",
    "\n",
    "def learning_curve(d, n, training_set, test_set):\n",
    "    # you will probably need additional helper functions\n",
    "    return plot\n",
    "\n",
    "# main\n",
    "\n",
    "data = load_data('house-votes-84.data')\n",
    "\n",
    "k = np.array([1,32,4,5])\n",
    "\n",
    "# set seed before splitting the data\n",
    "np.random.seed(666)\n",
    "tr_s, te_s = split_data(data, .7)\n",
    "\n",
    "ID3(4,4,tr_s)\n",
    "ID3(4,4,te_s)"
   ]
  }
 ],
 "metadata": {
  "kernelspec": {
   "display_name": "Python 3",
   "language": "python",
   "name": "python3"
  },
  "language_info": {
   "codemirror_mode": {
    "name": "ipython",
    "version": 3
   },
   "file_extension": ".py",
   "mimetype": "text/x-python",
   "name": "python",
   "nbconvert_exporter": "python",
   "pygments_lexer": "ipython3",
   "version": "3.6.2"
  }
 },
 "nbformat": 4,
 "nbformat_minor": 2
}

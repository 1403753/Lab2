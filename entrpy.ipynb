{
 "cells": [
  {
   "cell_type": "code",
   "execution_count": 1,
   "metadata": {},
   "outputs": [],
   "source": [
    "import numpy as np\n",
    "%load_ext cython"
   ]
  },
  {
   "cell_type": "markdown",
   "metadata": {},
   "source": [
    "## Function code and checks"
   ]
  },
  {
   "cell_type": "code",
   "execution_count": 2,
   "metadata": {},
   "outputs": [],
   "source": [
    "def conditional_entropy_python(X, Y):\n",
    "    \"\"\" \n",
    "    Calculate conditional entropy of all columns of X against Y (i.e. \\sum_i=1^{N} H(X_i | Y)).\n",
    "    \"\"\"\n",
    "    # Calculate distribution of y    \n",
    "    Y_dist = np.zeros(shape=(int(Y.max()) + 1, ), dtype=np.float32)\n",
    "    for y in range(Y.max() + 1):\n",
    "        Y_dist[y] = (float(len(np.where(Y==y)[0]))/len(Y))\n",
    "        \n",
    "    Y_max = Y.max()\n",
    "    X_max = X.max()\n",
    "    \n",
    "    ce_sum = 0.\n",
    "    for i in range(X.shape[1]):\n",
    "        ce_sum_partial = 0.\n",
    "        \n",
    "        # Count\n",
    "        counts = np.zeros(shape=(X_max + 1, Y_max + 1), dtype=np.int32)\n",
    "        for row, x in enumerate(X[:, i]):\n",
    "            counts[x, Y[row]] += 1\n",
    "        \n",
    "        # For each value of y add conditional probability\n",
    "        for y in range(Y.max() + 1):\n",
    "            count_sum = float(counts[:, y].sum())\n",
    "            probs = counts[:, y] / count_sum\n",
    "            entropy = -probs * np.log2(probs)\n",
    "            ce_sum_partial += (entropy * Y_dist[y]).sum()\n",
    "\n",
    "        ce_sum += ce_sum_partial\n",
    "        \n",
    "    return ce_sum"
   ]
  },
  {
   "cell_type": "code",
   "execution_count": 3,
   "metadata": {},
   "outputs": [],
   "source": [
    "# Some data: two conditionally independent variables\n",
    "X = np.random.randint(0, 2, size=(100, 80))\n",
    "Y = np.random.randint(0, 2, size=(100))"
   ]
  },
  {
   "cell_type": "code",
   "execution_count": 4,
   "metadata": {},
   "outputs": [
    {
     "ename": "IndexError",
     "evalue": "tuple index out of range",
     "output_type": "error",
     "traceback": [
      "\u001b[0;31m---------------------------------------------------------------------------\u001b[0m",
      "\u001b[0;31mIndexError\u001b[0m                                Traceback (most recent call last)",
      "\u001b[0;32m<ipython-input-4-4bd9332a5dbe>\u001b[0m in \u001b[0;36m<module>\u001b[0;34m()\u001b[0m\n\u001b[1;32m      1\u001b[0m \u001b[0;31m# Check that function calculates correctly entropy\u001b[0m\u001b[0;34m\u001b[0m\u001b[0;34m\u001b[0m\u001b[0m\n\u001b[0;32m----> 2\u001b[0;31m \u001b[0mval\u001b[0m \u001b[0;34m=\u001b[0m \u001b[0mconditional_entropy_python\u001b[0m\u001b[0;34m(\u001b[0m\u001b[0mX\u001b[0m\u001b[0;34m,\u001b[0m \u001b[0mY\u001b[0m\u001b[0;34m)\u001b[0m\u001b[0;34m\u001b[0m\u001b[0m\n\u001b[0m\u001b[1;32m      3\u001b[0m \u001b[0;32massert\u001b[0m \u001b[0mabs\u001b[0m\u001b[0;34m(\u001b[0m\u001b[0mval\u001b[0m \u001b[0;34m-\u001b[0m \u001b[0mX\u001b[0m\u001b[0;34m.\u001b[0m\u001b[0mshape\u001b[0m\u001b[0;34m[\u001b[0m\u001b[0;36m1\u001b[0m\u001b[0;34m]\u001b[0m\u001b[0;34m)\u001b[0m \u001b[0;34m<\u001b[0m \u001b[0;36m0.1\u001b[0m\u001b[0;34m,\u001b[0m \u001b[0;34m\"X and Y are conditionally independent. 1 bit per column\"\u001b[0m\u001b[0;34m\u001b[0m\u001b[0m\n",
      "\u001b[0;32m<ipython-input-2-e0593927f4f0>\u001b[0m in \u001b[0;36mconditional_entropy_python\u001b[0;34m(X, Y)\u001b[0m\n\u001b[1;32m     12\u001b[0m \u001b[0;34m\u001b[0m\u001b[0m\n\u001b[1;32m     13\u001b[0m     \u001b[0mce_sum\u001b[0m \u001b[0;34m=\u001b[0m \u001b[0;36m0.\u001b[0m\u001b[0;34m\u001b[0m\u001b[0m\n\u001b[0;32m---> 14\u001b[0;31m     \u001b[0;32mfor\u001b[0m \u001b[0mi\u001b[0m \u001b[0;32min\u001b[0m \u001b[0mrange\u001b[0m\u001b[0;34m(\u001b[0m\u001b[0mX\u001b[0m\u001b[0;34m.\u001b[0m\u001b[0mshape\u001b[0m\u001b[0;34m[\u001b[0m\u001b[0;36m1\u001b[0m\u001b[0;34m]\u001b[0m\u001b[0;34m)\u001b[0m\u001b[0;34m:\u001b[0m\u001b[0;34m\u001b[0m\u001b[0m\n\u001b[0m\u001b[1;32m     15\u001b[0m         \u001b[0mce_sum_partial\u001b[0m \u001b[0;34m=\u001b[0m \u001b[0;36m0.\u001b[0m\u001b[0;34m\u001b[0m\u001b[0m\n\u001b[1;32m     16\u001b[0m \u001b[0;34m\u001b[0m\u001b[0m\n",
      "\u001b[0;31mIndexError\u001b[0m: tuple index out of range"
     ]
    }
   ],
   "source": [
    "# Check that function calculates correctly entropy\n",
    "val = conditional_entropy_python(X, Y)\n",
    "assert abs(val - X.shape[1]) < 0.1, \"X and Y are conditionally independent. 1 bit per column\""
   ]
  },
  {
   "cell_type": "code",
   "execution_count": null,
   "metadata": {},
   "outputs": [],
   "source": [
    "%timeit conditional_entropy_python(X, Y)"
   ]
  }
 ],
 "metadata": {
  "kernelspec": {
   "display_name": "Python 2",
   "language": "python",
   "name": "python2"
  },
  "language_info": {
   "codemirror_mode": {
    "name": "ipython",
    "version": 2
   },
   "file_extension": ".py",
   "mimetype": "text/x-python",
   "name": "python",
   "nbconvert_exporter": "python",
   "pygments_lexer": "ipython2",
   "version": "2.7.15rc1"
  }
 },
 "nbformat": 4,
 "nbformat_minor": 1
}

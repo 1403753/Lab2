{
 "cells": [
  {
   "cell_type": "code",
   "execution_count": 7,
   "metadata": {},
   "outputs": [
    {
     "name": "stdout",
     "output_type": "stream",
     "text": [
      "2.831591763828246\n",
      "2.831591763828246\n",
      "[[0.00223 0.03809 0.00378]\n",
      " [0.03915 0.70997 0.06691]\n",
      " [0.0065  0.12269 0.01068]]\n"
     ]
    }
   ],
   "source": [
    "import numpy as np\n",
    "from matplotlib import pyplot as plt\n",
    "\n",
    "# function definitions\n",
    "\n",
    "def load_data(fname):\n",
    "    data = np.genfromtxt(fname, delimiter=',', dtype=str)\n",
    "\n",
    "    for i in range(data.shape[0]):\n",
    "        for j in range(data.shape[1]):\n",
    "            if data[i][j] == '?':\n",
    "                data[i][j] = np.random.choice(['n','y'])\n",
    "    \n",
    "    return data\n",
    "\n",
    "\n",
    "\n",
    "def entropy(X):\n",
    "    probs = [np.mean(X == c) for c in set(X)]\n",
    "    return np.sum(-p * np.log2(p) for p in probs)\n",
    "\n",
    "\n",
    "def ID3(d, n, data):\n",
    "    # you will probably need additional helper functions\n",
    "    return tree\n",
    "\n",
    "def compute_gain(S, i):\n",
    "    \n",
    "    return gain\n",
    "\n",
    "\n",
    "def split_data(data, split):\n",
    "    \n",
    "    return training_set, test_set\n",
    "\n",
    "\n",
    "def learning_curve(d, n, training_set, test_set):\n",
    "    # you will probably need additional helper functions\n",
    "    return plot\n",
    "\n",
    "\n",
    "def entropy(S):\n",
    "    S = np.array(S)\n",
    "    S = S / S.sum()\n",
    "    return -(np.dot(S, np.log(S)))\n",
    "\n",
    "def condent(S, i):\n",
    "    S = np.array(S)\n",
    "    S = S / S.sum()\n",
    "    return \n",
    "\n",
    "#drv.entropy_conditional([1,2,2,2], [1,1,2,2])\n",
    "\n",
    "# main\n",
    "\n",
    "data = load_data('house-votes-84.data')\n",
    "\n",
    "data = [[ord(y[0]) / 1000 for y in x] for x in data]\n",
    "\n",
    "from scipy import stats as stats\n",
    "print(stats.entropy(data[20]))\n",
    "print(entropy(data[20]))\n",
    "\n",
    "numBins = 3  # number of bins in each dimension\n",
    "data = np.random.randn(100000, 2)  # generate 100000 3-d random data points\n",
    "jointProbs, edges = np.histogramdd(data, bins=numBins)\n",
    "jointProbs /= jointProbs.sum()\n",
    "\n",
    "print(jointProbs)"
   ]
  }
 ],
 "metadata": {
  "kernelspec": {
   "display_name": "Python 3",
   "language": "python",
   "name": "python3"
  },
  "language_info": {
   "codemirror_mode": {
    "name": "ipython",
    "version": 3
   },
   "file_extension": ".py",
   "mimetype": "text/x-python",
   "name": "python",
   "nbconvert_exporter": "python",
   "pygments_lexer": "ipython3",
   "version": "3.6.7"
  }
 },
 "nbformat": 4,
 "nbformat_minor": 2
}

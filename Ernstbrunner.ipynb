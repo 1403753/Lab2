{
 "cells": [
  {
   "cell_type": "code",
   "execution_count": 10,
   "metadata": {},
   "outputs": [],
   "source": [
    "import numpy as np\n",
    "from matplotlib import pyplot as plt\n",
    "\n",
    "# function definitions\n",
    "\n",
    "def load_data(fname):\n",
    "    data = np.genfromtxt(fname, delimiter=',', dtype=str)\n",
    "\n",
    "    for i in range(data.shape[0]):\n",
    "        for j in range(data.shape[1]):\n",
    "            if data[i][j] == '?':\n",
    "                data[i][j] = np.random.choice(['n','y'])\n",
    "    \n",
    "    return data\n",
    "\n",
    "\n",
    "def ID3(d, n, data):\n",
    "    # you will probably need additional helper functions\n",
    "    return tree\n",
    "\n",
    "def compute_gain(S, i):\n",
    "    \n",
    "    return gain\n",
    "\n",
    "\n",
    "def split_data(data, split):\n",
    "    \n",
    "    return training_set, test_set\n",
    "\n",
    "\n",
    "def learning_curve(d, n, training_set, test_set):\n",
    "    # you will probably need additional helper functions\n",
    "    return plot\n",
    "\n",
    "# main\n",
    "\n",
    "data = load_data('house-votes-84.data')\n"
   ]
  }
 ],
 "metadata": {
  "kernelspec": {
   "display_name": "Python 3",
   "language": "python",
   "name": "python3"
  },
  "language_info": {
   "codemirror_mode": {
    "name": "ipython",
    "version": 3
   },
   "file_extension": ".py",
   "mimetype": "text/x-python",
   "name": "python",
   "nbconvert_exporter": "python",
   "pygments_lexer": "ipython3",
   "version": "3.6.7"
  }
 },
 "nbformat": 4,
 "nbformat_minor": 2
}
